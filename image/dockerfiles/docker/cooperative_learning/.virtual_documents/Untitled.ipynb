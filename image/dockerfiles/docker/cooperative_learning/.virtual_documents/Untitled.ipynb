get_ipython().getoutput("which pip")
